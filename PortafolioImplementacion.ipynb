{
  "nbformat": 4,
  "nbformat_minor": 0,
  "metadata": {
    "colab": {
      "provenance": [],
      "collapsed_sections": [],
      "toc_visible": true,
      "authorship_tag": "ABX9TyPgE77Lj/s4leQi0KCK1xBD",
      "include_colab_link": true
    },
    "kernelspec": {
      "name": "python3",
      "display_name": "Python 3"
    },
    "language_info": {
      "name": "python"
    }
  },
  "cells": [
    {
      "cell_type": "markdown",
      "metadata": {
        "id": "view-in-github",
        "colab_type": "text"
      },
      "source": [
        "<a href=\"https://colab.research.google.com/github/A01749373/PortafolioImplementacionM2/blob/main/PortafolioImplementacion.ipynb\" target=\"_parent\"><img src=\"https://colab.research.google.com/assets/colab-badge.svg\" alt=\"Open In Colab\"/></a>"
      ]
    },
    {
      "cell_type": "code",
      "execution_count": 150,
      "metadata": {
        "id": "0plQwY33Jhpj",
        "colab": {
          "base_uri": "https://localhost:8080/",
          "height": 35
        },
        "outputId": "0f20ac3b-5266-4f99-c923-2b6c879732ee"
      },
      "outputs": [
        {
          "output_type": "execute_result",
          "data": {
            "text/plain": [
              "'\\nAriadna Jocelyn Guzmán Jiménez A01749373\\n27-08-2022\\n\"Implementación de refinamiento de modelos\"\\n'"
            ],
            "application/vnd.google.colaboratory.intrinsic+json": {
              "type": "string"
            }
          },
          "metadata": {},
          "execution_count": 150
        }
      ],
      "source": [
        "'''\n",
        "Ariadna Jocelyn Guzmán Jiménez A01749373\n",
        "27-08-2022\n",
        "\"Implementación de refinamiento de modelos\"\n",
        "'''"
      ]
    },
    {
      "cell_type": "markdown",
      "source": [
        "# Lectura de datos"
      ],
      "metadata": {
        "id": "BgG0fopxlfh6"
      }
    },
    {
      "cell_type": "code",
      "source": [
        "# Librerias \n",
        "\n",
        "import pandas as pd, matplotlib.pyplot as plt, numpy as np, seaborn as sns\n"
      ],
      "metadata": {
        "id": "LosVY7A0v3_o"
      },
      "execution_count": 151,
      "outputs": []
    },
    {
      "cell_type": "code",
      "source": [
        "# Importación de datos \n",
        "\n",
        "df = pd.read_csv(\"Fish.csv\")\n",
        "\n",
        "df"
      ],
      "metadata": {
        "id": "X_CDsTS6hCBn",
        "colab": {
          "base_uri": "https://localhost:8080/",
          "height": 424
        },
        "outputId": "90235039-7f0e-483c-d59b-d2ff990c50e7"
      },
      "execution_count": 152,
      "outputs": [
        {
          "output_type": "execute_result",
          "data": {
            "text/plain": [
              "    Species  Weight  Length1  Length2  Length3   Height   Width\n",
              "0     Bream   242.0     23.2     25.4     30.0  11.5200  4.0200\n",
              "1     Bream   290.0     24.0     26.3     31.2  12.4800  4.3056\n",
              "2     Bream   340.0     23.9     26.5     31.1  12.3778  4.6961\n",
              "3     Bream   363.0     26.3     29.0     33.5  12.7300  4.4555\n",
              "4     Bream   430.0     26.5     29.0     34.0  12.4440  5.1340\n",
              "..      ...     ...      ...      ...      ...      ...     ...\n",
              "154   Smelt    12.2     11.5     12.2     13.4   2.0904  1.3936\n",
              "155   Smelt    13.4     11.7     12.4     13.5   2.4300  1.2690\n",
              "156   Smelt    12.2     12.1     13.0     13.8   2.2770  1.2558\n",
              "157   Smelt    19.7     13.2     14.3     15.2   2.8728  2.0672\n",
              "158   Smelt    19.9     13.8     15.0     16.2   2.9322  1.8792\n",
              "\n",
              "[159 rows x 7 columns]"
            ],
            "text/html": [
              "\n",
              "  <div id=\"df-01a22c09-04c9-4414-820b-006f583be44f\">\n",
              "    <div class=\"colab-df-container\">\n",
              "      <div>\n",
              "<style scoped>\n",
              "    .dataframe tbody tr th:only-of-type {\n",
              "        vertical-align: middle;\n",
              "    }\n",
              "\n",
              "    .dataframe tbody tr th {\n",
              "        vertical-align: top;\n",
              "    }\n",
              "\n",
              "    .dataframe thead th {\n",
              "        text-align: right;\n",
              "    }\n",
              "</style>\n",
              "<table border=\"1\" class=\"dataframe\">\n",
              "  <thead>\n",
              "    <tr style=\"text-align: right;\">\n",
              "      <th></th>\n",
              "      <th>Species</th>\n",
              "      <th>Weight</th>\n",
              "      <th>Length1</th>\n",
              "      <th>Length2</th>\n",
              "      <th>Length3</th>\n",
              "      <th>Height</th>\n",
              "      <th>Width</th>\n",
              "    </tr>\n",
              "  </thead>\n",
              "  <tbody>\n",
              "    <tr>\n",
              "      <th>0</th>\n",
              "      <td>Bream</td>\n",
              "      <td>242.0</td>\n",
              "      <td>23.2</td>\n",
              "      <td>25.4</td>\n",
              "      <td>30.0</td>\n",
              "      <td>11.5200</td>\n",
              "      <td>4.0200</td>\n",
              "    </tr>\n",
              "    <tr>\n",
              "      <th>1</th>\n",
              "      <td>Bream</td>\n",
              "      <td>290.0</td>\n",
              "      <td>24.0</td>\n",
              "      <td>26.3</td>\n",
              "      <td>31.2</td>\n",
              "      <td>12.4800</td>\n",
              "      <td>4.3056</td>\n",
              "    </tr>\n",
              "    <tr>\n",
              "      <th>2</th>\n",
              "      <td>Bream</td>\n",
              "      <td>340.0</td>\n",
              "      <td>23.9</td>\n",
              "      <td>26.5</td>\n",
              "      <td>31.1</td>\n",
              "      <td>12.3778</td>\n",
              "      <td>4.6961</td>\n",
              "    </tr>\n",
              "    <tr>\n",
              "      <th>3</th>\n",
              "      <td>Bream</td>\n",
              "      <td>363.0</td>\n",
              "      <td>26.3</td>\n",
              "      <td>29.0</td>\n",
              "      <td>33.5</td>\n",
              "      <td>12.7300</td>\n",
              "      <td>4.4555</td>\n",
              "    </tr>\n",
              "    <tr>\n",
              "      <th>4</th>\n",
              "      <td>Bream</td>\n",
              "      <td>430.0</td>\n",
              "      <td>26.5</td>\n",
              "      <td>29.0</td>\n",
              "      <td>34.0</td>\n",
              "      <td>12.4440</td>\n",
              "      <td>5.1340</td>\n",
              "    </tr>\n",
              "    <tr>\n",
              "      <th>...</th>\n",
              "      <td>...</td>\n",
              "      <td>...</td>\n",
              "      <td>...</td>\n",
              "      <td>...</td>\n",
              "      <td>...</td>\n",
              "      <td>...</td>\n",
              "      <td>...</td>\n",
              "    </tr>\n",
              "    <tr>\n",
              "      <th>154</th>\n",
              "      <td>Smelt</td>\n",
              "      <td>12.2</td>\n",
              "      <td>11.5</td>\n",
              "      <td>12.2</td>\n",
              "      <td>13.4</td>\n",
              "      <td>2.0904</td>\n",
              "      <td>1.3936</td>\n",
              "    </tr>\n",
              "    <tr>\n",
              "      <th>155</th>\n",
              "      <td>Smelt</td>\n",
              "      <td>13.4</td>\n",
              "      <td>11.7</td>\n",
              "      <td>12.4</td>\n",
              "      <td>13.5</td>\n",
              "      <td>2.4300</td>\n",
              "      <td>1.2690</td>\n",
              "    </tr>\n",
              "    <tr>\n",
              "      <th>156</th>\n",
              "      <td>Smelt</td>\n",
              "      <td>12.2</td>\n",
              "      <td>12.1</td>\n",
              "      <td>13.0</td>\n",
              "      <td>13.8</td>\n",
              "      <td>2.2770</td>\n",
              "      <td>1.2558</td>\n",
              "    </tr>\n",
              "    <tr>\n",
              "      <th>157</th>\n",
              "      <td>Smelt</td>\n",
              "      <td>19.7</td>\n",
              "      <td>13.2</td>\n",
              "      <td>14.3</td>\n",
              "      <td>15.2</td>\n",
              "      <td>2.8728</td>\n",
              "      <td>2.0672</td>\n",
              "    </tr>\n",
              "    <tr>\n",
              "      <th>158</th>\n",
              "      <td>Smelt</td>\n",
              "      <td>19.9</td>\n",
              "      <td>13.8</td>\n",
              "      <td>15.0</td>\n",
              "      <td>16.2</td>\n",
              "      <td>2.9322</td>\n",
              "      <td>1.8792</td>\n",
              "    </tr>\n",
              "  </tbody>\n",
              "</table>\n",
              "<p>159 rows × 7 columns</p>\n",
              "</div>\n",
              "      <button class=\"colab-df-convert\" onclick=\"convertToInteractive('df-01a22c09-04c9-4414-820b-006f583be44f')\"\n",
              "              title=\"Convert this dataframe to an interactive table.\"\n",
              "              style=\"display:none;\">\n",
              "        \n",
              "  <svg xmlns=\"http://www.w3.org/2000/svg\" height=\"24px\"viewBox=\"0 0 24 24\"\n",
              "       width=\"24px\">\n",
              "    <path d=\"M0 0h24v24H0V0z\" fill=\"none\"/>\n",
              "    <path d=\"M18.56 5.44l.94 2.06.94-2.06 2.06-.94-2.06-.94-.94-2.06-.94 2.06-2.06.94zm-11 1L8.5 8.5l.94-2.06 2.06-.94-2.06-.94L8.5 2.5l-.94 2.06-2.06.94zm10 10l.94 2.06.94-2.06 2.06-.94-2.06-.94-.94-2.06-.94 2.06-2.06.94z\"/><path d=\"M17.41 7.96l-1.37-1.37c-.4-.4-.92-.59-1.43-.59-.52 0-1.04.2-1.43.59L10.3 9.45l-7.72 7.72c-.78.78-.78 2.05 0 2.83L4 21.41c.39.39.9.59 1.41.59.51 0 1.02-.2 1.41-.59l7.78-7.78 2.81-2.81c.8-.78.8-2.07 0-2.86zM5.41 20L4 18.59l7.72-7.72 1.47 1.35L5.41 20z\"/>\n",
              "  </svg>\n",
              "      </button>\n",
              "      \n",
              "  <style>\n",
              "    .colab-df-container {\n",
              "      display:flex;\n",
              "      flex-wrap:wrap;\n",
              "      gap: 12px;\n",
              "    }\n",
              "\n",
              "    .colab-df-convert {\n",
              "      background-color: #E8F0FE;\n",
              "      border: none;\n",
              "      border-radius: 50%;\n",
              "      cursor: pointer;\n",
              "      display: none;\n",
              "      fill: #1967D2;\n",
              "      height: 32px;\n",
              "      padding: 0 0 0 0;\n",
              "      width: 32px;\n",
              "    }\n",
              "\n",
              "    .colab-df-convert:hover {\n",
              "      background-color: #E2EBFA;\n",
              "      box-shadow: 0px 1px 2px rgba(60, 64, 67, 0.3), 0px 1px 3px 1px rgba(60, 64, 67, 0.15);\n",
              "      fill: #174EA6;\n",
              "    }\n",
              "\n",
              "    [theme=dark] .colab-df-convert {\n",
              "      background-color: #3B4455;\n",
              "      fill: #D2E3FC;\n",
              "    }\n",
              "\n",
              "    [theme=dark] .colab-df-convert:hover {\n",
              "      background-color: #434B5C;\n",
              "      box-shadow: 0px 1px 3px 1px rgba(0, 0, 0, 0.15);\n",
              "      filter: drop-shadow(0px 1px 2px rgba(0, 0, 0, 0.3));\n",
              "      fill: #FFFFFF;\n",
              "    }\n",
              "  </style>\n",
              "\n",
              "      <script>\n",
              "        const buttonEl =\n",
              "          document.querySelector('#df-01a22c09-04c9-4414-820b-006f583be44f button.colab-df-convert');\n",
              "        buttonEl.style.display =\n",
              "          google.colab.kernel.accessAllowed ? 'block' : 'none';\n",
              "\n",
              "        async function convertToInteractive(key) {\n",
              "          const element = document.querySelector('#df-01a22c09-04c9-4414-820b-006f583be44f');\n",
              "          const dataTable =\n",
              "            await google.colab.kernel.invokeFunction('convertToInteractive',\n",
              "                                                     [key], {});\n",
              "          if (!dataTable) return;\n",
              "\n",
              "          const docLinkHtml = 'Like what you see? Visit the ' +\n",
              "            '<a target=\"_blank\" href=https://colab.research.google.com/notebooks/data_table.ipynb>data table notebook</a>'\n",
              "            + ' to learn more about interactive tables.';\n",
              "          element.innerHTML = '';\n",
              "          dataTable['output_type'] = 'display_data';\n",
              "          await google.colab.output.renderOutput(dataTable, element);\n",
              "          const docLink = document.createElement('div');\n",
              "          docLink.innerHTML = docLinkHtml;\n",
              "          element.appendChild(docLink);\n",
              "        }\n",
              "      </script>\n",
              "    </div>\n",
              "  </div>\n",
              "  "
            ]
          },
          "metadata": {},
          "execution_count": 152
        }
      ]
    },
    {
      "cell_type": "markdown",
      "source": [
        "# Entendimiento de los datos"
      ],
      "metadata": {
        "id": "QVBzn853lldm"
      }
    },
    {
      "cell_type": "code",
      "source": [
        "# Numero de filas y columnas    \n",
        "df.shape"
      ],
      "metadata": {
        "colab": {
          "base_uri": "https://localhost:8080/"
        },
        "id": "WbgIm-f7mGaZ",
        "outputId": "2b1df407-fa53-4eae-83a3-dd9ed8c1a3a8"
      },
      "execution_count": 153,
      "outputs": [
        {
          "output_type": "execute_result",
          "data": {
            "text/plain": [
              "(159, 7)"
            ]
          },
          "metadata": {},
          "execution_count": 153
        }
      ]
    },
    {
      "cell_type": "code",
      "source": [
        "# Informacion del dataframe\n",
        "df.info()"
      ],
      "metadata": {
        "colab": {
          "base_uri": "https://localhost:8080/"
        },
        "id": "2uiEQkv2mJNg",
        "outputId": "4bb65585-eac9-4046-cced-a0a541a6bf9e"
      },
      "execution_count": 154,
      "outputs": [
        {
          "output_type": "stream",
          "name": "stdout",
          "text": [
            "<class 'pandas.core.frame.DataFrame'>\n",
            "RangeIndex: 159 entries, 0 to 158\n",
            "Data columns (total 7 columns):\n",
            " #   Column   Non-Null Count  Dtype  \n",
            "---  ------   --------------  -----  \n",
            " 0   Species  159 non-null    object \n",
            " 1   Weight   159 non-null    float64\n",
            " 2   Length1  159 non-null    float64\n",
            " 3   Length2  159 non-null    float64\n",
            " 4   Length3  159 non-null    float64\n",
            " 5   Height   159 non-null    float64\n",
            " 6   Width    159 non-null    float64\n",
            "dtypes: float64(6), object(1)\n",
            "memory usage: 8.8+ KB\n"
          ]
        }
      ]
    },
    {
      "cell_type": "code",
      "source": [
        "# Análisis estadístico\n",
        "df.describe()"
      ],
      "metadata": {
        "colab": {
          "base_uri": "https://localhost:8080/",
          "height": 300
        },
        "id": "UG41Y6JenNYE",
        "outputId": "b8737e21-dec6-44e2-e15d-ddc0f0adc671"
      },
      "execution_count": 155,
      "outputs": [
        {
          "output_type": "execute_result",
          "data": {
            "text/plain": [
              "            Weight     Length1     Length2     Length3      Height       Width\n",
              "count   159.000000  159.000000  159.000000  159.000000  159.000000  159.000000\n",
              "mean    398.326415   26.247170   28.415723   31.227044    8.970994    4.417486\n",
              "std     357.978317    9.996441   10.716328   11.610246    4.286208    1.685804\n",
              "min       0.000000    7.500000    8.400000    8.800000    1.728400    1.047600\n",
              "25%     120.000000   19.050000   21.000000   23.150000    5.944800    3.385650\n",
              "50%     273.000000   25.200000   27.300000   29.400000    7.786000    4.248500\n",
              "75%     650.000000   32.700000   35.500000   39.650000   12.365900    5.584500\n",
              "max    1650.000000   59.000000   63.400000   68.000000   18.957000    8.142000"
            ],
            "text/html": [
              "\n",
              "  <div id=\"df-0c3eac1f-dccb-4dea-a5df-b8e5c37c87e1\">\n",
              "    <div class=\"colab-df-container\">\n",
              "      <div>\n",
              "<style scoped>\n",
              "    .dataframe tbody tr th:only-of-type {\n",
              "        vertical-align: middle;\n",
              "    }\n",
              "\n",
              "    .dataframe tbody tr th {\n",
              "        vertical-align: top;\n",
              "    }\n",
              "\n",
              "    .dataframe thead th {\n",
              "        text-align: right;\n",
              "    }\n",
              "</style>\n",
              "<table border=\"1\" class=\"dataframe\">\n",
              "  <thead>\n",
              "    <tr style=\"text-align: right;\">\n",
              "      <th></th>\n",
              "      <th>Weight</th>\n",
              "      <th>Length1</th>\n",
              "      <th>Length2</th>\n",
              "      <th>Length3</th>\n",
              "      <th>Height</th>\n",
              "      <th>Width</th>\n",
              "    </tr>\n",
              "  </thead>\n",
              "  <tbody>\n",
              "    <tr>\n",
              "      <th>count</th>\n",
              "      <td>159.000000</td>\n",
              "      <td>159.000000</td>\n",
              "      <td>159.000000</td>\n",
              "      <td>159.000000</td>\n",
              "      <td>159.000000</td>\n",
              "      <td>159.000000</td>\n",
              "    </tr>\n",
              "    <tr>\n",
              "      <th>mean</th>\n",
              "      <td>398.326415</td>\n",
              "      <td>26.247170</td>\n",
              "      <td>28.415723</td>\n",
              "      <td>31.227044</td>\n",
              "      <td>8.970994</td>\n",
              "      <td>4.417486</td>\n",
              "    </tr>\n",
              "    <tr>\n",
              "      <th>std</th>\n",
              "      <td>357.978317</td>\n",
              "      <td>9.996441</td>\n",
              "      <td>10.716328</td>\n",
              "      <td>11.610246</td>\n",
              "      <td>4.286208</td>\n",
              "      <td>1.685804</td>\n",
              "    </tr>\n",
              "    <tr>\n",
              "      <th>min</th>\n",
              "      <td>0.000000</td>\n",
              "      <td>7.500000</td>\n",
              "      <td>8.400000</td>\n",
              "      <td>8.800000</td>\n",
              "      <td>1.728400</td>\n",
              "      <td>1.047600</td>\n",
              "    </tr>\n",
              "    <tr>\n",
              "      <th>25%</th>\n",
              "      <td>120.000000</td>\n",
              "      <td>19.050000</td>\n",
              "      <td>21.000000</td>\n",
              "      <td>23.150000</td>\n",
              "      <td>5.944800</td>\n",
              "      <td>3.385650</td>\n",
              "    </tr>\n",
              "    <tr>\n",
              "      <th>50%</th>\n",
              "      <td>273.000000</td>\n",
              "      <td>25.200000</td>\n",
              "      <td>27.300000</td>\n",
              "      <td>29.400000</td>\n",
              "      <td>7.786000</td>\n",
              "      <td>4.248500</td>\n",
              "    </tr>\n",
              "    <tr>\n",
              "      <th>75%</th>\n",
              "      <td>650.000000</td>\n",
              "      <td>32.700000</td>\n",
              "      <td>35.500000</td>\n",
              "      <td>39.650000</td>\n",
              "      <td>12.365900</td>\n",
              "      <td>5.584500</td>\n",
              "    </tr>\n",
              "    <tr>\n",
              "      <th>max</th>\n",
              "      <td>1650.000000</td>\n",
              "      <td>59.000000</td>\n",
              "      <td>63.400000</td>\n",
              "      <td>68.000000</td>\n",
              "      <td>18.957000</td>\n",
              "      <td>8.142000</td>\n",
              "    </tr>\n",
              "  </tbody>\n",
              "</table>\n",
              "</div>\n",
              "      <button class=\"colab-df-convert\" onclick=\"convertToInteractive('df-0c3eac1f-dccb-4dea-a5df-b8e5c37c87e1')\"\n",
              "              title=\"Convert this dataframe to an interactive table.\"\n",
              "              style=\"display:none;\">\n",
              "        \n",
              "  <svg xmlns=\"http://www.w3.org/2000/svg\" height=\"24px\"viewBox=\"0 0 24 24\"\n",
              "       width=\"24px\">\n",
              "    <path d=\"M0 0h24v24H0V0z\" fill=\"none\"/>\n",
              "    <path d=\"M18.56 5.44l.94 2.06.94-2.06 2.06-.94-2.06-.94-.94-2.06-.94 2.06-2.06.94zm-11 1L8.5 8.5l.94-2.06 2.06-.94-2.06-.94L8.5 2.5l-.94 2.06-2.06.94zm10 10l.94 2.06.94-2.06 2.06-.94-2.06-.94-.94-2.06-.94 2.06-2.06.94z\"/><path d=\"M17.41 7.96l-1.37-1.37c-.4-.4-.92-.59-1.43-.59-.52 0-1.04.2-1.43.59L10.3 9.45l-7.72 7.72c-.78.78-.78 2.05 0 2.83L4 21.41c.39.39.9.59 1.41.59.51 0 1.02-.2 1.41-.59l7.78-7.78 2.81-2.81c.8-.78.8-2.07 0-2.86zM5.41 20L4 18.59l7.72-7.72 1.47 1.35L5.41 20z\"/>\n",
              "  </svg>\n",
              "      </button>\n",
              "      \n",
              "  <style>\n",
              "    .colab-df-container {\n",
              "      display:flex;\n",
              "      flex-wrap:wrap;\n",
              "      gap: 12px;\n",
              "    }\n",
              "\n",
              "    .colab-df-convert {\n",
              "      background-color: #E8F0FE;\n",
              "      border: none;\n",
              "      border-radius: 50%;\n",
              "      cursor: pointer;\n",
              "      display: none;\n",
              "      fill: #1967D2;\n",
              "      height: 32px;\n",
              "      padding: 0 0 0 0;\n",
              "      width: 32px;\n",
              "    }\n",
              "\n",
              "    .colab-df-convert:hover {\n",
              "      background-color: #E2EBFA;\n",
              "      box-shadow: 0px 1px 2px rgba(60, 64, 67, 0.3), 0px 1px 3px 1px rgba(60, 64, 67, 0.15);\n",
              "      fill: #174EA6;\n",
              "    }\n",
              "\n",
              "    [theme=dark] .colab-df-convert {\n",
              "      background-color: #3B4455;\n",
              "      fill: #D2E3FC;\n",
              "    }\n",
              "\n",
              "    [theme=dark] .colab-df-convert:hover {\n",
              "      background-color: #434B5C;\n",
              "      box-shadow: 0px 1px 3px 1px rgba(0, 0, 0, 0.15);\n",
              "      filter: drop-shadow(0px 1px 2px rgba(0, 0, 0, 0.3));\n",
              "      fill: #FFFFFF;\n",
              "    }\n",
              "  </style>\n",
              "\n",
              "      <script>\n",
              "        const buttonEl =\n",
              "          document.querySelector('#df-0c3eac1f-dccb-4dea-a5df-b8e5c37c87e1 button.colab-df-convert');\n",
              "        buttonEl.style.display =\n",
              "          google.colab.kernel.accessAllowed ? 'block' : 'none';\n",
              "\n",
              "        async function convertToInteractive(key) {\n",
              "          const element = document.querySelector('#df-0c3eac1f-dccb-4dea-a5df-b8e5c37c87e1');\n",
              "          const dataTable =\n",
              "            await google.colab.kernel.invokeFunction('convertToInteractive',\n",
              "                                                     [key], {});\n",
              "          if (!dataTable) return;\n",
              "\n",
              "          const docLinkHtml = 'Like what you see? Visit the ' +\n",
              "            '<a target=\"_blank\" href=https://colab.research.google.com/notebooks/data_table.ipynb>data table notebook</a>'\n",
              "            + ' to learn more about interactive tables.';\n",
              "          element.innerHTML = '';\n",
              "          dataTable['output_type'] = 'display_data';\n",
              "          await google.colab.output.renderOutput(dataTable, element);\n",
              "          const docLink = document.createElement('div');\n",
              "          docLink.innerHTML = docLinkHtml;\n",
              "          element.appendChild(docLink);\n",
              "        }\n",
              "      </script>\n",
              "    </div>\n",
              "  </div>\n",
              "  "
            ]
          },
          "metadata": {},
          "execution_count": 155
        }
      ]
    },
    {
      "cell_type": "code",
      "source": [
        "# Visualización de datos\n",
        "\n",
        "# Height vs Weight\n",
        "sns.barplot(data=df, x=\"Height\", y=\"Weight\")\n",
        "plt.title(\"Height vs Weight\")\n",
        "plt.show()"
      ],
      "metadata": {
        "colab": {
          "base_uri": "https://localhost:8080/",
          "height": 295
        },
        "id": "MLZzQz5Vnk-R",
        "outputId": "30edeaf8-ea35-407c-bd86-a7a7a8125570"
      },
      "execution_count": 156,
      "outputs": [
        {
          "output_type": "display_data",
          "data": {
            "text/plain": [
              "<Figure size 432x288 with 1 Axes>"
            ],
            "image/png": "[encoded data removed]"
          },
          "metadata": {
            "needs_background": "light"
          }
        }
      ]
    },
    {
      "cell_type": "code",
      "source": [
        "# Width vs Weight\n",
        "sns.barplot(data=df, x=\"Width\", y=\"Weight\")\n",
        "plt.title(\"Width vs Weight\")\n",
        "plt.show()"
      ],
      "metadata": {
        "colab": {
          "base_uri": "https://localhost:8080/",
          "height": 295
        },
        "id": "T0uW1vfsaOLB",
        "outputId": "c071c0ee-349f-4074-9d93-0ce6c9e81ddf"
      },
      "execution_count": 157,
      "outputs": [
        {
          "output_type": "display_data",
          "data": {
            "text/plain": [
              "<Figure size 432x288 with 1 Axes>"
            ],
            "image/png": "[encoded data removed]"
          },
          "metadata": {
            "needs_background": "light"
          }
        }
      ]
    },
    {
      "cell_type": "code",
      "source": [
        "# Length1 vs Weight\n",
        "sns.barplot(data=df, x=\"Length1\", y=\"Weight\")\n",
        "plt.title(\"Length1 vs Weight\")\n",
        "plt.show()"
      ],
      "metadata": {
        "colab": {
          "base_uri": "https://localhost:8080/",
          "height": 295
        },
        "id": "e1pTY2r8aWCb",
        "outputId": "bf1ab724-0aaf-4e69-bdcd-2c62862908a5"
      },
      "execution_count": 158,
      "outputs": [
        {
          "output_type": "display_data",
          "data": {
            "text/plain": [
              "<Figure size 432x288 with 1 Axes>"
            ],
            "image/png": "[encoded data removed]"
          },
          "metadata": {
            "needs_background": "light"
          }
        }
      ]
    },
    {
      "cell_type": "code",
      "source": [
        "# Length2 vs Weight\n",
        "sns.barplot(data=df, x=\"Length2\", y=\"Weight\")\n",
        "plt.title(\"Length2 vs Weight\")\n",
        "plt.show()"
      ],
      "metadata": {
        "colab": {
          "base_uri": "https://localhost:8080/",
          "height": 295
        },
        "id": "bLQUpVRramgL",
        "outputId": "c6d39389-0481-40eb-fa26-cfc0751b9291"
      },
      "execution_count": 159,
      "outputs": [
        {
          "output_type": "display_data",
          "data": {
            "text/plain": [
              "<Figure size 432x288 with 1 Axes>"
            ],
            "image/png": "[encoded data removed]"
          },
          "metadata": {
            "needs_background": "light"
          }
        }
      ]
    },
    {
      "cell_type": "code",
      "source": [
        "# Length3 vs Weight\n",
        "sns.barplot(data=df, x=\"Length3\", y=\"Weight\")\n",
        "plt.title(\"Length3 vs Weight\")\n",
        "plt.show()"
      ],
      "metadata": {
        "colab": {
          "base_uri": "https://localhost:8080/",
          "height": 295
        },
        "id": "fd2DW7a7apX-",
        "outputId": "39606475-1ca5-4885-dcad-515e835c5fe4"
      },
      "execution_count": 160,
      "outputs": [
        {
          "output_type": "display_data",
          "data": {
            "text/plain": [
              "<Figure size 432x288 with 1 Axes>"
            ],
            "image/png": "[encoded data removed]"
          },
          "metadata": {
            "needs_background": "light"
          }
        }
      ]
    },
    {
      "cell_type": "code",
      "source": [
        "# Matriz de correlacion\n",
        "corr_df = df.corr(method='pearson')\n",
        "\n",
        "plt.figure(figsize=(8, 6))\n",
        "sns.heatmap(corr_df, annot=True)\n",
        "plt.show()\n"
      ],
      "metadata": {
        "colab": {
          "base_uri": "https://localhost:8080/",
          "height": 378
        },
        "id": "nMMulGJTarCd",
        "outputId": "58bcefd0-665e-449c-f56a-4a45b0087f41"
      },
      "execution_count": 161,
      "outputs": [
        {
          "output_type": "display_data",
          "data": {
            "text/plain": [
              "<Figure size 576x432 with 2 Axes>"
            ],
            "image/png": "[encoded data removed]"
          },
          "metadata": {
            "needs_background": "light"
          }
        }
      ]
    },
    {
      "cell_type": "markdown",
      "source": [
        "# Tratamiento de los datos"
      ],
      "metadata": {
        "id": "QyeSuvg9mcV9"
      }
    },
    {
      "cell_type": "code",
      "source": [
        "# Checar la existencia de datos nulos\n",
        "df.isna().sum()"
      ],
      "metadata": {
        "colab": {
          "base_uri": "https://localhost:8080/"
        },
        "id": "fjkgQTAqdA-_",
        "outputId": "b264d6b3-1b58-40a1-8be4-37370bb2ee94"
      },
      "execution_count": 162,
      "outputs": [
        {
          "output_type": "execute_result",
          "data": {
            "text/plain": [
              "Species    0\n",
              "Weight     0\n",
              "Length1    0\n",
              "Length2    0\n",
              "Length3    0\n",
              "Height     0\n",
              "Width      0\n",
              "dtype: int64"
            ]
          },
          "metadata": {},
          "execution_count": 162
        }
      ]
    },
    {
      "cell_type": "code",
      "source": [
        "# Separacion en X y Y\n",
        "x= df[\"Width\"]\n",
        "\n",
        "y= df[\"Weight\"]\n"
      ],
      "metadata": {
        "id": "T0qxLud_hQbr"
      },
      "execution_count": 163,
      "outputs": []
    },
    {
      "cell_type": "code",
      "source": [
        "# Dividir el dataset \n",
        "from sklearn.model_selection import train_test_split\n",
        "\n",
        "# Modelo prueba 20% y entrenamiento 80%\n",
        "x_train, x_test, y_train, y_test = train_test_split(x, y, test_size = 0.3, random_state = 0)\n"
      ],
      "metadata": {
        "id": "dyjS4jIxbtXV"
      },
      "execution_count": 245,
      "outputs": []
    },
    {
      "cell_type": "markdown",
      "source": [
        "# Pruebas"
      ],
      "metadata": {
        "id": "fUUqwj50oQP0"
      }
    },
    {
      "cell_type": "markdown",
      "source": [
        "*Se va cambiando el número de iteraciones entre cada una de las funciones*"
      ],
      "metadata": {
        "id": "QWYMj6wvpAgn"
      }
    },
    {
      "cell_type": "code",
      "source": [
        "theta = [1,1]\n",
        "alpha = 0.0001\n",
        "\n",
        "def h0(x, theta):\n",
        "  '''\n",
        "  Calculo de la funcion de hipotesis\n",
        "  '''\n",
        "  return theta[0] + theta[1] * x\n",
        "\n",
        "\n",
        "def accuracy(estimated, prediction):\n",
        "  '''\n",
        "  Calculo del score de precisión del modelo\n",
        "  '''\n",
        "  correlation_matrix = np.corrcoef(estimated, prediction)\n",
        "  correlation = correlation_matrix[0,1]\n",
        "  r_squared = correlation**2\n",
        "  return(r_squared)\n",
        "\n",
        "\n",
        "def linearRegression(x, y, iterations, theta, alpha):\n",
        "  '''\n",
        "  Funcion que realiza el metodo de regresion lineal\n",
        "  con gradiente descendiente\n",
        "  '''\n",
        "  n = len(x)\n",
        "\n",
        "  i = iterations\n",
        "  while (i != 0):\n",
        "\n",
        "    all_h0 = []\n",
        "    delta = []\n",
        "    deltaX = []\n",
        "    all_x = []\n",
        "\n",
        "    for xi, yi in zip(x,y):\n",
        "      all_x.append(xi)\n",
        "      all_h0.append(h0(xi, theta)) #h0\n",
        "      delta.append(h0(xi, theta) - yi)  #h0-y\n",
        "      deltaX.append((h0(xi, theta) - yi) * xi) #(h0-y) * x\n",
        "    i -=1 \n",
        "    # Refinamiento de theta\n",
        "    theta[0] = theta[0] - alpha/n * sum(delta)\n",
        "    theta[1] = theta[1] - alpha/n * sum(deltaX)\n",
        "\n",
        "  score = accuracy(y, all_h0)\n",
        "  print(\"Predicción\\n\", all_h0)\n",
        "  print(\"\\nDelta\\n\", delta)\n",
        "  print(\"\\nDeltaX\\n\", deltaX)\n",
        "  print(\"\\nTheta actualizada después de {} iteraciones \\n\".format(iterations), theta)\n",
        "  print(\"\\nScore\\n\", score)\n",
        "  print(\"\\n\")\n",
        "  plt.plot(x, all_h0, color=\"#C6E5B1\")\n",
        "  plt.scatter(x,y,marker=\".\", color=\"#F7D917\")\n",
        "  plt.title(\"Width vs Weight\")\n",
        "  plt.xlabel(\"Width\")\n",
        "  plt.ylabel(\"Weight\")\n",
        "  plt.show()\n",
        "  return all_h0\n",
        "  "
      ],
      "metadata": {
        "id": "sWWZltjt8psW"
      },
      "execution_count": 247,
      "outputs": []
    },
    {
      "cell_type": "code",
      "source": [
        "prediction1 = linearRegression(x_train, y_train, 1000, theta, alpha)"
      ],
      "metadata": {
        "colab": {
          "base_uri": "https://localhost:8080/",
          "height": 593
        },
        "id": "D2KiZa7ddNPC",
        "outputId": "dfb676b2-68ef-4c25-f8d2-d240db0555ca"
      },
      "execution_count": 253,
      "outputs": [
        {
          "output_type": "stream",
          "name": "stdout",
          "text": [
            "Predicción\n",
            " [505.10734570790993, 469.09901058862874, 621.6721522439598, 193.47916441332407, 119.57359752300471, 461.59313178822634, 296.6328047219001, 367.9734487903601, 415.65317690523386, 502.1646435556992, 122.49641655256534, 449.703024443483, 108.89636065991579, 110.04958177361999, 322.2422666951934, 355.606146502015, 355.2084840490136, 98.87526684427925, 689.1355873956556, 732.043366074512, 653.852986253102, 405.0355894100952, 408.8730320815592, 355.00965282251286, 284.83217142908205, 725.5714096519134, 412.6905916303731, 358.9465111072272, 355.7254452379155, 376.00623034098936, 499.0429932996378, 478.88150693246433, 604.2048289958711, 769.7417666190495, 548.4227284010927, 549.4665923402216, 305.2421968293815, 441.77960006742916, 287.15849677914053, 437.6737352401891, 181.5492908232806, 438.02168988656535, 519.4927849452373, 308.59250299591866, 256.3495982328533, 359.3342319989036, 677.1162397536868, 428.97486908078247, 736.6065427227036, 508.7857233981733, 677.5536684519884, 355.00965282251286, 504.6898001322584, 325.2843844606545, 473.3738819583943, 505.4553003542862, 220.20208125502145, 460.1516053960961, 332.31306831745513, 120.88588361790949, 322.0832017139929, 422.77133481395987, 408.0975902982064, 108.89636065991579, 322.23232513386836, 448.67904362700426, 505.12722883056006, 481.46631287697375, 511.44012027195805, 739.6884267334649, 425.6941538435205, 310.3322762278, 484.5879631330351, 469.2978418151294, 110.63613389179713, 718.1947711487365, 394.3782356696563, 628.054634614633, 610.9452075742457, 417.00522924543884, 617.5265211714196, 620.2505089744795, 390.10336429989076, 749.868585530302, 529.1858072371476, 665.7530351591704, 651.1687646953422, 360.9248818109094, 348.14997550823784, 297.9649739394549, 627.6669137229566, 133.27306902890462, 134.70465385970982, 324.9463713756033, 596.5100605302931, 270.3075503332041, 121.70109164656245, 122.35723469401486, 350.05875528264477, 647.0927245520775, 608.2411028938358, 345.16750711072694, 406.7057717127013, 345.16750711072694, 275.2485063117471, 528.6290798029456, 487.7692627570467, 425.6941538435205, 333.77447783223545, 591.5193967451248, 372.5068007545766]\n",
            "\n",
            "Delta\n",
            " [-104.89265429209007, 149.09901058862874, -298.3278477560402, 161.47916441332407, 107.3735975230047, 121.59313178822634, 211.63280472190007, 217.97344879036012, 115.65317690523386, 27.164643555699172, 113.79641655256533, 19.703024443483002, 99.09636065991579, 102.54958177361999, 182.2422666951934, 210.606146502015, 205.20848404901358, 92.17526684427925, -560.8644126043444, -367.95663392548795, -166.14701374689798, 205.0355894100952, 220.8730320815592, 205.00965282251286, 164.83217142908205, -94.42859034808657, 162.6905916303731, 158.9465111072272, 194.7254452379155, 207.00623034098936, 159.04299329963783, -88.11849306753567, -75.79517100412886, -70.25823338095051, -26.57727159890726, -50.53340765977839, 227.2421968293815, 151.77960006742916, 217.15849677914053, 74.6737352401891, 161.64929082328058, -71.97831011343465, 19.492784945237304, 163.59250299591866, 204.84959823285328, 234.3342319989036, -7.883760246313159, -71.02513091921753, -278.3934572772964, -91.21427660182673, -422.4463315480116, 225.00965282251286, -35.310199867741574, 185.2843844606545, -26.626118041605707, 205.45530035428618, 180.20208125502145, 154.1516053960961, 222.31306831745513, 107.48588361790948, 172.08320171399288, 132.77133481395987, 108.0975902982064, 101.89636065991579, 202.23232513386836, 198.67904362700426, 75.12722883056006, -18.533687123026255, -188.55987972804195, -160.3115732665351, 160.6941538435205, 223.33227622779998, 34.58796313303509, 197.2978418151294, 100.73613389179712, -281.80522885126345, 152.3782356696563, -321.94536538536704, -239.05479242575427, 147.00522924543884, -82.47347882858037, -334.74949102552046, 45.10336429989076, -250.13141446969803, -240.81419276285237, -259.2469648408296, -348.83123530465775, 180.92488181090943, 238.14997550823784, 217.96497393945492, -62.333086277043435, 121.07306902890461, 128.80465385970982, 224.9463713756033, -128.48993946970688, 185.30755033320412, 111.90109164656245, 112.35723469401486, 230.05875528264477, 107.09272455207747, -341.7588971061642, 215.16750711072694, 133.70577171270128, 225.16750711072694, 206.24850631174712, -156.37092019705437, -12.230737242953296, 165.6941538435205, 163.77447783223545, -58.48060325487518, 212.5068007545766]\n",
            "\n",
            "DeltaX\n",
            " [-538.497908604732, 711.440838924701, -1881.3449063039166, 322.8291454951175, 134.83976376938932, 571.0135061906898, 642.6865013794661, 818.3595161385281, 489.67555101676015, 138.65377363699972, 146.25115455335694, 90.17089136559997, 113.8022605818473, 118.95751485739918, 600.3789234006451, 764.5003118023145, 744.0859631617232, 96.56280954606694, -3917.5818356000846, -2728.9503755083815, -1101.5547011419337, 846.2228846133451, 920.1128770453593, 742.9549818287867, 480.99675944720434, -694.1823390849236, 683.9837853324145, 582.3164380924376, 707.0870367479188, 793.9102946037624, 806.7932964104027, -429.1370612388987, -464.6698753579124, -547.7121099678759, -148.02211417011398, -281.9764147415634, 709.7682775768902, 682.5225055832154, 638.7717182758419, 332.70882736266253, 303.77134731510887, -320.95128479580507, 102.89266533343512, 516.4778912084148, 539.0822027095767, 859.4207958559789, -54.11413033069352, -310.2377718551422, -2077.483335586097, -471.6507814527256, -2901.5303836043627, 815.4349818287866, -181.12720124156718, 616.0705783316763, -128.19410792311484, 1055.4855145100744, 408.6983202863886, 721.6761558223636, 754.9084860855825, 136.3995863111271, 566.6355666038357, 571.6602591749856, 449.4697804599422, 117.01778058184729, 666.2139486885025, 907.2082490096269, 385.70319281609534, -90.74093215433653, -980.039974886498, -1201.2787431154543, 696.6091569116613, 708.9906441127738, 170.42872954171708, 941.8209776887018, 117.44825850444626, -2050.7530113964144, 612.5605073920183, -2050.952950187481, -1481.7572253717954, 624.4194117429261, -516.6633554695245, -2106.2437975325747, 179.37607982066552, -1899.9481980289322, -1294.6171002930944, -1749.8392385861475, -2303.332646716655, 666.4368021504848, 846.6231629317856, 664.8367635101254, -396.84982709142474, 168.72742899868146, 181.3569526344714, 747.181867161204, -777.7753015980297, 513.6725295236417, 142.92007425098956, 144.2442179001763, 822.2760031312289, 702.7424585107324, -2109.0625058215605, 758.4654625653125, 554.0767179774341, 793.7154625653125, 581.9714102598568, -839.7743898262609, -60.65711828270257, 718.2841569116614, 558.5364791990557, -351.05906133901567, 807.525842867391]\n",
            "\n",
            "Theta actualizada después de 1000 iteraciones \n",
            " [-5.277383788373007, 99.41659381887206]\n",
            "\n",
            "Score\n",
            " 0.8457594824524046\n",
            "\n",
            "\n"
          ]
        },
        {
          "output_type": "display_data",
          "data": {
            "text/plain": [
              "<Figure size 432x288 with 1 Axes>"
            ],
            "image/png": "[encoded data removed]"
          },
          "metadata": {
            "needs_background": "light"
          }
        }
      ]
    },
    {
      "cell_type": "code",
      "source": [
        "prediction2 = linearRegression(x_train, y_train, 10000, theta, alpha)"
      ],
      "metadata": {
        "colab": {
          "base_uri": "https://localhost:8080/",
          "height": 593
        },
        "id": "cYFzaYUeH8tS",
        "outputId": "05e3e881-e672-4182-ef63-7214a141b22f"
      },
      "execution_count": 254,
      "outputs": [
        {
          "output_type": "stream",
          "name": "stdout",
          "text": [
            "Predicción\n",
            " [506.66113845651205, 467.33183791788474, 633.9764473508811, 166.29221115562564, 85.57050485961372, 459.1337092854542, 278.9594729968174, 356.87969957472717, 408.956818675571, 503.44703769465843, 88.76288872442771, 446.14700485580255, 73.90853114937471, 75.16811117766866, 306.93083638375936, 343.3717896161263, 342.9374516753353, 62.96321504144089, 707.6618790060784, 754.5269428174299, 669.1252452093947, 397.3599956564507, 401.55135678508407, 342.7202827049398, 266.0704946038437, 747.458092831056, 405.7210010166779, 347.02022831877093, 343.50209099836366, 365.6533259787059, 500.0374848594489, 478.0165512613439, 614.8981533016354, 795.702179604419, 553.9713986571743, 555.1115357517508, 288.3628894149431, 437.4928213855414, 268.6113715574712, 433.008282146874, 153.2620729318949, 433.3883278450661, 522.3733134646274, 292.02218656610745, 234.9610395946866, 347.4437078110422, 694.5340147456697, 423.5071396920704, 759.5109706880069, 510.678764408829, 695.0117864805399, 342.7202827049398, 506.20508361868144, 310.2535216308107, 472.00097078138833, 507.04118415470407, 195.47972077678244, 457.5592342500867, 317.93044473429205, 87.00382006422407, 306.757101207443, 416.73146781573035, 400.7043978005416, 73.90853114937471, 306.91997793523956, 445.02858465826563, 506.68285535355164, 480.8397478764856, 513.577970163609, 762.8770897291374, 419.9238516805444, 293.9224150570682, 484.2493007116951, 467.54900688828025, 75.80875964033542, 739.4011240293825, 385.71973884325115, 640.947571300577, 622.2601813980432, 410.43356767426053, 629.4484743181346, 632.4236892125532, 381.0506059797477, 773.9961410133876, 532.9603007714086, 682.1228080875661, 666.1934641090553, 349.1810595742063, 335.22795322629463, 280.4145050984673, 640.5240918083058, 100.5334469198645, 102.09706350671217, 309.88433438113833, 606.493714147329, 250.20630131645152, 87.89421284284566, 88.61087044515088, 337.3127753420915, 661.7415002159473, 619.3066834006642, 331.97041867036194, 399.184215007773, 331.97041867036194, 255.60295023078004, 532.3522276543011, 487.7240042380233, 419.9238516805444, 319.52663666669906, 601.0427729904017, 361.8311520997448]\n",
            "\n",
            "Delta\n",
            " [-103.33886154348795, 147.33183791788474, -286.02355264911887, 134.29221115562564, 73.37050485961372, 119.13370928545419, 193.9594729968174, 206.87969957472717, 108.95681867557101, 28.447037694658434, 80.06288872442771, 16.14700485580255, 64.10853114937471, 67.66811117766866, 166.93083638375936, 198.3717896161263, 192.9374516753353, 56.26321504144089, -542.3381209939216, -345.4730571825701, -150.87475479060527, 197.35999565645068, 213.55135678508407, 192.7202827049398, 146.0704946038437, -72.54190716894402, 155.72100101667792, 147.02022831877093, 182.50209099836366, 196.65332597870588, 160.0374848594489, -88.98344873865608, -65.10184669836462, -44.29782039558097, -21.02860134282571, -44.88846424824919, 210.36288941494308, 147.4928213855414, 198.61137155747122, 70.00828214687402, 133.3620729318949, -76.6116721549339, 22.37331346462736, 147.02218656610745, 183.4610395946866, 222.4437078110422, 9.534014745669651, -76.49286030792962, -255.48902931199314, -89.32123559117099, -404.98821351946015, 212.7202827049398, -33.79491638131856, 170.25352163081072, -27.999029218611668, 207.04118415470407, 155.47972077678244, 151.55923425008672, 207.93044473429205, 73.60382006422407, 156.757101207443, 126.73146781573035, 100.70439780054159, 66.90853114937471, 186.91997793523956, 195.02858465826563, 76.68285535355164, -19.160252123514397, -186.42202983639095, -137.12291027086258, 154.92385168054437, 206.92241505706818, 34.24930071169513, 195.54900688828025, 65.90875964033542, -260.59887597061754, 143.71973884325115, -309.052428699423, -227.7398186019568, 140.43356767426053, -70.55152568186543, -322.5763107874468, 36.05060597974767, -226.00385898661239, -237.03969922859142, -242.8771919124339, -333.8065358909447, 169.1810595742063, 225.22795322629463, 200.41450509846732, -49.4759081916942, 88.3334469198645, 96.19706350671217, 209.88433438113833, -118.506285852671, 165.20630131645152, 78.09421284284566, 78.61087044515088, 217.31277534209153, 121.74150021594733, -330.69331659933584, 201.97041867036194, 126.18421500777299, 211.97041867036194, 186.60295023078004, -152.64777234569885, -12.275995761976674, 159.92385168054437, 149.52663666669906, -48.95722700959834, 201.83115209974483]\n",
            "\n",
            "DeltaX\n",
            " [-530.5210473919584, 703.0085978089788, -1803.7503300711385, 268.4769885423268, 92.13868000270291, 559.4638121754215, 589.016127596735, 776.7091440833557, 461.3231702723677, 145.19936980107556, 102.89682458863449, 73.89676772258038, 73.62223717194192, 78.49500896609564, 549.9369473826569, 720.0895963065385, 699.5911997747658, 58.941344077413476, -3788.177541330443, -2562.200928594531, -1000.2996242617129, 814.5441740733032, 889.6122420953031, 698.4183045227019, 426.24831030347633, -533.2845763617751, 654.6822324743173, 538.6233084686493, 662.7015928332581, 754.2048357935328, 811.8381531950124, -433.3493953572551, -399.11338136899417, -345.3325184578306, -117.11879517886779, -250.4776305052305, 657.0474487986332, 663.2457192065026, 584.2153494363016, 311.9219011053972, 250.61400745361686, -341.6114461388502, 118.09753512303551, 464.1637452078578, 482.7960717973773, 815.8122983969972, 65.44147721427649, -334.1208138250366, -1906.5613323378175, -461.86224499482694, -2781.6210457370603, 770.8983045227018, -173.35440306961166, 566.0929594224457, -134.80412607592774, 1063.6326753579613, 352.62800672174257, 709.539711065206, 706.0694111842356, 93.40324766150033, 516.1697828558683, 545.6550078274087, 418.7288860546519, 76.83775717194192, 615.7704833120596, 890.5395232665726, 393.68977938513416, -93.80859439672649, -968.9285000746419, -1027.5168158236816, 671.5948970351599, 656.8958988401686, 168.76000432680655, 933.4727392818946, 76.84302286466706, -1896.4301402133779, 577.7533501498696, -1968.818497029674, -1411.6224916223691, 596.5056220531891, -441.97708778661416, -2029.650147474615, 143.3732599814565, -1716.6801120905102, -1274.3254230529076, -1639.348182251355, -2204.1245564879077, 623.1784329415889, 800.6853737194774, 611.304323451345, -314.9933170932403, 123.10149162752316, 135.44546541745072, 697.1518050803891, -717.3422495233881, 457.9518672492036, 99.74192864288247, 100.92063547748471, 776.7193216277035, 798.8677244170464, -2040.7745953978213, 711.9457258130258, 522.9073869922113, 747.1957258130258, 526.537544666192, -819.7795966053411, -60.88157338194711, 693.2698970351598, 509.94564168811047, -293.89023373861886, 766.9583779790303]\n",
            "\n",
            "Theta actualizada después de 10000 iteraciones \n",
            " [-50.794153242522995, 108.58534351827086]\n",
            "\n",
            "Score\n",
            " 0.8457594824524031\n",
            "\n",
            "\n"
          ]
        },
        {
          "output_type": "display_data",
          "data": {
            "text/plain": [
              "<Figure size 432x288 with 1 Axes>"
            ],
            "image/png": "[encoded data removed]"
          },
          "metadata": {
            "needs_background": "light"
          }
        }
      ]
    },
    {
      "cell_type": "code",
      "source": [
        "prediction3 = linearRegression(x_train, y_train, 100000, theta, alpha)"
      ],
      "metadata": {
        "colab": {
          "base_uri": "https://localhost:8080/",
          "height": 593
        },
        "id": "lLJWk01wPsI5",
        "outputId": "0a80b003-7dc2-4b54-9fab-cc4b6c6b475a"
      },
      "execution_count": 255,
      "outputs": [
        {
          "output_type": "stream",
          "name": "stdout",
          "text": [
            "Predicción\n",
            " [514.7570696992353, 458.0525189394409, 698.3188746850416, 24.016912847629328, -92.36675097023706, 446.2325477015489, 186.4593255156655, 298.803846844292, 373.8880614892324, 510.12301475033985, -87.7640072034288, 427.50846081344446, -109.18085575102646, -107.36480718997288, 226.78812804389042, 279.3282915860964, 278.70206794435376, -124.96169152294055, 804.5577155066773, 872.1272464507064, 748.9960228930632, 357.1678902547044, 363.2109483975207, 278.38895612348256, 167.87613894695318, 861.935456681345, 369.2226953582499, 284.5885701767345, 279.51615867861926, 311.453564407493, 505.20715916266033, 473.45762052630937, 670.8120012214969, 931.493247687907, 582.9684798760504, 584.6123169356248, 200.01706735939337, 415.0309547517228, 171.53954725114755, 408.56519565073006, 5.230203595350645, 409.1131413372549, 537.4107099392747, 205.2930015410749, 123.02287060713792, 285.19913822743354, 785.6301059350066, 394.8665534876103, 879.3131627397028, 520.5496383853546, 786.3189519409235, 278.38895612348256, 514.0995348754055, 231.5787389032215, 464.7844230881741, 515.30501538576, 66.09914157273346, 443.96248700023193, 242.64724177102232, -90.30021295248642, 226.53763858719344, 385.0974646764254, 361.98981229612264, -109.18085575102646, 226.77247245284684, 425.89593493595726, 514.7883808813225, 477.52807419763644, 524.7296811939865, 884.1663959632082, 389.7002084432336, 208.03272997369885, 482.44392978531596, 458.36563076031223, -106.44112731840252, 850.3190081270194, 340.385096656002, 708.3697641350105, 681.4264919490344, 376.0172218711574, 691.7904932198746, 696.0801251658116, 333.65319250726895, 900.1977211918194, 552.6749112067512, 767.7357653722112, 744.7690133113005, 287.70403279440404, 267.5865983034223, 188.55717471550327, 707.7591960843115, -70.79334651220373, -68.53894140193032, 231.04644880774026, 658.6945737537771, 145.0033204323039, -89.01645448691406, -87.9831854780387, 270.5924717837868, 738.3502209834386, 677.1681711851844, 262.8899209903526, 359.79802955002344, 262.8899209903526, 152.78414918095598, 551.7981981083115, 487.45371891925686, 389.7002084432336, 244.94861365442648, 650.8354670499072, 305.9427963601579]\n",
            "\n",
            "Delta\n",
            " [-95.24293030076467, 138.05251893944092, -221.68112531495842, -7.983087152370672, -104.56675097023707, 106.23254770154892, 101.45932551566551, 148.80384684429202, 73.88806148923243, 35.12301475033985, -96.4640072034288, -2.491539186555542, -118.98085575102645, -114.86480718997288, 86.78812804389042, 134.32829158609638, 128.70206794435376, -131.66169152294054, -445.44228449332275, -227.87275354929363, -71.00397710693676, 157.1678902547044, 175.21094839752072, 128.38895612348256, 47.876138946953176, 41.935456681345045, 119.2226953582499, 84.58857017673449, 118.51615867861926, 142.453564407493, 165.20715916266033, -93.54237947369063, -9.187998778503129, 91.493247687907, 7.968479876050424, -15.38768306437521, 122.01706735939337, 125.03095475172279, 101.53954725114755, 45.56519565073006, -14.669796404649354, -100.88685866274511, 37.41070993927474, 60.29300154107489, 71.52287060713792, 160.19913822743354, 100.63010593500655, -105.1334465123897, -135.68683726029724, -79.45036161464543, -313.6810480590765, 148.38895612348256, -25.90046512459446, 91.5787389032215, -35.215576911825906, 215.30501538576004, 26.09914157273346, 137.96248700023193, 132.64724177102232, -103.70021295248642, 76.53763858719344, 95.09746467642537, 61.989812296122636, -116.18085575102646, 106.77247245284684, 175.89593493595726, 84.7883808813225, -22.471925802363558, -175.2703188060135, -15.833604036791826, 124.70020844323358, 121.03272997369885, 32.44392978531596, 186.36563076031223, -116.34112731840253, -149.6809918729806, 98.38509665600202, -241.63023586498946, -168.57350805096564, 106.0172218711574, -8.209506780125366, -258.91987483418836, -11.346807492731045, -99.80227880818063, -217.32508879324882, -157.26423462778882, -255.23098668869955, 107.70403279440404, 157.5865983034223, 108.55717471550327, 17.759196084311498, -82.99334651220373, -74.43894140193032, 131.04644880774026, -66.30542624622285, 60.003320432303894, -98.81645448691405, -97.9831854780387, 150.59247178378678, 198.3502209834386, -272.8318288148156, 132.8899209903526, 86.79802955002344, 142.8899209903526, 83.78414918095598, -133.20180189168855, -12.546281080743142, 129.70020844323358, 74.94861365442648, 0.8354670499071517, 145.9427963601579]\n",
            "\n",
            "DeltaX\n",
            " [-488.95815557806566, 658.7313993714363, -1397.9876805737224, -15.959787835019448, -131.3149258684237, 498.87866726124395, 308.11167972597303, 558.66916259221, 312.8420523454101, 179.27489188868464, -123.9755420578467, -11.40252908727144, -136.63761474447878, -133.24317634036854, 285.9148090277926, 487.6116984575299, 466.6736983662267, -137.92878803943253, -3111.36981295741, -1690.0182766983362, -470.7563682189907, 648.663316659216, 729.8937688343918, 465.2815769915008, 139.70736106110405, 308.28431624724, 501.2360558251542, 309.89868569948453, 430.3558753938023, 546.3379102156171, 838.0628770003433, -455.5513880368734, -56.327945311491284, 713.2539110006167, 44.38044866966283, -85.86327149921367, 381.10810819032923, 562.2391973275471, 298.67857823925056, 203.01572922182777, -27.567481403617066, -449.8545027771804, 197.4724324144617, 190.35103516532752, 188.21958628974414, 587.5303394491125, 690.725047137885, -459.2228943661182, -1012.5494543712421, -410.82192983700855, -2154.4869104889613, 537.7615769915008, -132.85902590311974, 304.4993068532115, -169.54891659967703, 1106.086455541265, 59.19285308695948, 645.8851791402859, 450.43023888186053, -131.59557023670527, 252.02313633991056, 409.4516439108171, 257.7536395272779, -133.42209474447878, 351.7405560014133, 803.1760181045681, 435.30354744470975, -110.02254872837197, -910.9674819942552, -118.64752848929587, 540.5754036014175, 384.2305045745043, 159.86421962416583, 889.6349749974264, -135.6421203405255, -1089.2585140580543, 395.5080885571281, -1539.3054175779153, -1044.8860323031056, 450.3187516199282, -51.42927617477337, -1629.1238524567132, -45.126253398591366, -758.0781493711784, -1168.3396773525058, -1061.4864044671863, -1685.290205105483, 396.72780479818726, 560.2203569686664, 331.121094317228, 113.06569779037758, -115.6595276994071, -104.81002949391788, 435.2838843597901, -401.36000615363616, 166.3292042383464, -126.20837567068662, -125.7908135167061, 538.2476126496107, 1301.574150093324, -1683.6997819819899, 468.4369714909929, 359.69103445529714, 503.6869714909929, 236.41373374390346, -715.3469568791241, -62.22202639183754, 562.2504036014176, 255.60475200705608, 5.015308700592632, 554.5826261686]\n",
            "\n",
            "Theta actualizada después de 100000 iteraciones \n",
            " [-288.97082105681625, 156.55614361863346]\n",
            "\n",
            "Score\n",
            " 0.8457594824524051\n",
            "\n",
            "\n"
          ]
        },
        {
          "output_type": "display_data",
          "data": {
            "text/plain": [
              "<Figure size 432x288 with 1 Axes>"
            ],
            "image/png": "[encoded data removed]"
          },
          "metadata": {
            "needs_background": "light"
          }
        }
      ]
    },
    {
      "cell_type": "markdown",
      "source": [
        "# Predicción"
      ],
      "metadata": {
        "id": "7jS7Z2isn87U"
      }
    },
    {
      "cell_type": "code",
      "source": [
        "# Con más iteraciones, mayor la puntación de veracidad que tenemos en el modelo, sin embargo, no cambia por mucho\n",
        "# Se usa el último para las predicciones y comparación de entrada\n",
        "prediction4 = linearRegression(x_test, y_test, 100000, theta, alpha)\n"
      ],
      "metadata": {
        "colab": {
          "base_uri": "https://localhost:8080/",
          "height": 593
        },
        "id": "uCF_XYaEd-C5",
        "outputId": "c21eadf1-6528-4ab9-9ae6-3298358958c7"
      },
      "execution_count": 257,
      "outputs": [
        {
          "output_type": "stream",
          "name": "stdout",
          "text": [
            "Predicción\n",
            " [464.45932919525694, 175.05376898129907, 255.79497951917403, 276.4019355027292, 831.5139753871226, 1012.6086830075569, 871.7548411640335, 319.54031660156704, 909.3144241057284, 165.51791631734557, 180.24334866236234, 384.9938903289766, 861.2459423098805, 1210.8938733215134, -49.265812732657594, 78.35460092415485, 217.47858287399083, 778.8613648730022, 214.49457455737945, 767.1848105906099, -46.606153146112774, 608.2539328580497, 187.14116498844226, 1067.7479671188537, 28.318403499237206, 497.71588565140337, 658.8523347484158, 368.9926863123651, 986.9635100836365, -251.2702018180426, 688.8221574065558, 314.17775093113505, 778.8613648730022, 398.37868125638545, 593.2041517829664, 255.3625145457521, 452.653035420838, 592.0581196033982, 907.908912942107, 212.54848217698077, 751.6160715474205, -23.793625798105722, 277.4182281902707, 715.6133625100445, -102.67523695026631, 366.9384776886109, 294.9330596138591, 346.3963914510691]\n",
            "\n",
            "Delta\n",
            " [74.45932919525694, 175.05376898129907, 85.79497951917403, 116.4019355027292, 275.5139753871226, 112.60868300755692, 71.75484116403345, 19.540316601567042, -65.68557589427155, 50.517916317345566, -19.756651337637663, -71.00610967102341, -138.75405769011945, 210.8938733215134, -109.2658127326576, 0.3546009241548518, 72.47858287399083, -821.1386351269978, 84.49457455737945, 47.184810590609914, -101.60615314611277, 218.25393285804967, 67.14116498844226, -582.2520328811463, -61.681596500762794, 47.71588565140337, -41.14766525158416, 98.9926863123651, 136.9635100836365, -260.9702018180426, 38.82215740655579, 204.17775093113505, -771.1386351269978, 98.37868125638545, -106.79584821703361, 30.362514545752106, 152.65303542083802, -27.941880396601846, 207.908912942107, 77.54848217698077, 237.61607154742046, -63.79362579810572, 132.41822819027072, 1.6133625100444533, -122.37523695026631, 169.93847768861087, 114.93305961385909, 128.39639145106912]\n",
            "\n",
            "DeltaX\n",
            " [349.2142539257551, 586.710212117722, 319.58629870892327, 444.6903142010764, 1759.8455177852459, 813.5977347295988, 471.68762387589027, 78.54816467497919, -443.20028623141843, 167.08800821962046, -66.69055225532969, -306.9239090529987, -905.3702264280295, 1717.097916583762, -252.8629438259162, 1.0299029241153514, 257.1395163203447, -5045.075774220274, 298.60382648577894, 287.35549649681434, -236.38671529443135, 1168.749810454856, 228.783519698117, -4355.245205950974, -164.87490744653894, 231.12620691826763, -229.97430109110388, 420.5704277980831, 973.3174880583543, -360.13887850889876, 222.35778876178892, 815.6901149698846, -4737.875774220274, 431.3314901004964, -564.4587761663095, 113.03964165383509, 707.6078803897525, -147.5359226820974, 1401.472400360155, 273.3583996738572, 1429.9735185723762, -155.14609794099312, 506.49972282778555, 9.440590727525118, -252.97408982359053, 720.3692069220215, 448.9285308517336, 532.0746461732305]\n",
            "\n",
            "Theta actualizada después de 100000 iteraciones \n",
            " [-549.671440930791, 216.2325655613607]\n",
            "\n",
            "Score\n",
            " 0.7241436644225308\n",
            "\n",
            "\n"
          ]
        },
        {
          "output_type": "display_data",
          "data": {
            "text/plain": [
              "<Figure size 432x288 with 1 Axes>"
            ],
            "image/png": "[encoded data removed]"
          },
          "metadata": {
            "needs_background": "light"
          }
        }
      ]
    },
    {
      "cell_type": "markdown",
      "source": [
        "## Comparación real vs predicción"
      ],
      "metadata": {
        "id": "vma0I2UlpIdl"
      }
    },
    {
      "cell_type": "code",
      "source": [
        "comp = pd.DataFrame(x_test)\n",
        "comp[\"Prediction\"] = prediction4\n",
        "comp[\"Estimated\"] = y_test\n",
        "comp"
      ],
      "metadata": {
        "colab": {
          "base_uri": "https://localhost:8080/",
          "height": 1000
        },
        "id": "rLVZ-vHam1vn",
        "outputId": "279a9d26-9786-4eda-f9c1-326fa559fb06"
      },
      "execution_count": 260,
      "outputs": [
        {
          "output_type": "execute_result",
          "data": {
            "text/plain": [
              "      Width   Prediction  Estimated\n",
              "7    4.6900   464.459329      390.0\n",
              "40   3.3516   175.053769        0.0\n",
              "95   3.7250   255.794980      170.0\n",
              "45   3.8203   276.401936      160.0\n",
              "110  6.3875   831.513975      556.0\n",
              "120  7.2250  1012.608683      900.0\n",
              "59   6.5736   871.754841      800.0\n",
              "131  4.0198   319.540317      300.0\n",
              "33   6.7473   909.314424      975.0\n",
              "83   3.3075   165.517916      115.0\n",
              "128  3.3756   180.243349      200.0\n",
              "134  4.3225   384.993890      456.0\n",
              "60   6.5250   861.245942     1000.0\n",
              "126  8.1420  1210.893873     1000.0\n",
              "62   2.3142   -49.265813       60.0\n",
              "37   2.9044    78.354601       78.0\n",
              "44   3.5478   217.478583      145.0\n",
              "142  6.1440   778.861365     1600.0\n",
              "85   3.5340   214.494575      130.0\n",
              "26   6.0900   767.184811      720.0\n",
              "61   2.3265   -46.606153       55.0\n",
              "54   5.3550   608.253933      390.0\n",
              "86   3.4075   187.141165      120.0\n",
              "144  7.4800  1067.747967     1650.0\n",
              "63   2.6730    28.318403       90.0\n",
              "8    4.8438   497.715886      450.0\n",
              "24   5.5890   658.852335      700.0\n",
              "56   4.2485   368.992686      270.0\n",
              "119  7.1064   986.963510      850.0\n",
              "148  1.3800  -251.270202        9.7\n",
              "19   5.7276   688.822157      650.0\n",
              "90   3.9950   314.177751      110.0\n",
              "143  6.1440   778.861365     1550.0\n",
              "130  4.3844   398.378681      300.0\n",
              "16   5.2854   593.204152      700.0\n",
              "96   3.7230   255.362515      225.0\n",
              "107  4.6354   452.653035      300.0\n",
              "22   5.2801   592.058120      620.0\n",
              "113  6.7408   907.908913      700.0\n",
              "89   3.5250   212.548482      135.0\n",
              "109  6.0180   751.616072      514.0\n",
              "74   2.4320   -23.793626       40.0\n",
              "97   3.8250   277.418228      145.0\n",
              "27   5.8515   715.613363      714.0\n",
              "157  2.0672  -102.675237       19.7\n",
              "100  4.2390   366.938478      197.0\n",
              "51   3.9060   294.933060      180.0\n",
              "101  4.1440   346.396391      218.0"
            ],
            "text/html": [
              "\n",
              "  <div id=\"df-2c86229a-779a-474c-bd76-f7681e494026\">\n",
              "    <div class=\"colab-df-container\">\n",
              "      <div>\n",
              "<style scoped>\n",
              "    .dataframe tbody tr th:only-of-type {\n",
              "        vertical-align: middle;\n",
              "    }\n",
              "\n",
              "    .dataframe tbody tr th {\n",
              "        vertical-align: top;\n",
              "    }\n",
              "\n",
              "    .dataframe thead th {\n",
              "        text-align: right;\n",
              "    }\n",
              "</style>\n",
              "<table border=\"1\" class=\"dataframe\">\n",
              "  <thead>\n",
              "    <tr style=\"text-align: right;\">\n",
              "      <th></th>\n",
              "      <th>Width</th>\n",
              "      <th>Prediction</th>\n",
              "      <th>Estimated</th>\n",
              "    </tr>\n",
              "  </thead>\n",
              "  <tbody>\n",
              "    <tr>\n",
              "      <th>7</th>\n",
              "      <td>4.6900</td>\n",
              "      <td>464.459329</td>\n",
              "      <td>390.0</td>\n",
              "    </tr>\n",
              "    <tr>\n",
              "      <th>40</th>\n",
              "      <td>3.3516</td>\n",
              "      <td>175.053769</td>\n",
              "      <td>0.0</td>\n",
              "    </tr>\n",
              "    <tr>\n",
              "      <th>95</th>\n",
              "      <td>3.7250</td>\n",
              "      <td>255.794980</td>\n",
              "      <td>170.0</td>\n",
              "    </tr>\n",
              "    <tr>\n",
              "      <th>45</th>\n",
              "      <td>3.8203</td>\n",
              "      <td>276.401936</td>\n",
              "      <td>160.0</td>\n",
              "    </tr>\n",
              "    <tr>\n",
              "      <th>110</th>\n",
              "      <td>6.3875</td>\n",
              "      <td>831.513975</td>\n",
              "      <td>556.0</td>\n",
              "    </tr>\n",
              "    <tr>\n",
              "      <th>120</th>\n",
              "      <td>7.2250</td>\n",
              "      <td>1012.608683</td>\n",
              "      <td>900.0</td>\n",
              "    </tr>\n",
              "    <tr>\n",
              "      <th>59</th>\n",
              "      <td>6.5736</td>\n",
              "      <td>871.754841</td>\n",
              "      <td>800.0</td>\n",
              "    </tr>\n",
              "    <tr>\n",
              "      <th>131</th>\n",
              "      <td>4.0198</td>\n",
              "      <td>319.540317</td>\n",
              "      <td>300.0</td>\n",
              "    </tr>\n",
              "    <tr>\n",
              "      <th>33</th>\n",
              "      <td>6.7473</td>\n",
              "      <td>909.314424</td>\n",
              "      <td>975.0</td>\n",
              "    </tr>\n",
              "    <tr>\n",
              "      <th>83</th>\n",
              "      <td>3.3075</td>\n",
              "      <td>165.517916</td>\n",
              "      <td>115.0</td>\n",
              "    </tr>\n",
              "    <tr>\n",
              "      <th>128</th>\n",
              "      <td>3.3756</td>\n",
              "      <td>180.243349</td>\n",
              "      <td>200.0</td>\n",
              "    </tr>\n",
              "    <tr>\n",
              "      <th>134</th>\n",
              "      <td>4.3225</td>\n",
              "      <td>384.993890</td>\n",
              "      <td>456.0</td>\n",
              "    </tr>\n",
              "    <tr>\n",
              "      <th>60</th>\n",
              "      <td>6.5250</td>\n",
              "      <td>861.245942</td>\n",
              "      <td>1000.0</td>\n",
              "    </tr>\n",
              "    <tr>\n",
              "      <th>126</th>\n",
              "      <td>8.1420</td>\n",
              "      <td>1210.893873</td>\n",
              "      <td>1000.0</td>\n",
              "    </tr>\n",
              "    <tr>\n",
              "      <th>62</th>\n",
              "      <td>2.3142</td>\n",
              "      <td>-49.265813</td>\n",
              "      <td>60.0</td>\n",
              "    </tr>\n",
              "    <tr>\n",
              "      <th>37</th>\n",
              "      <td>2.9044</td>\n",
              "      <td>78.354601</td>\n",
              "      <td>78.0</td>\n",
              "    </tr>\n",
              "    <tr>\n",
              "      <th>44</th>\n",
              "      <td>3.5478</td>\n",
              "      <td>217.478583</td>\n",
              "      <td>145.0</td>\n",
              "    </tr>\n",
              "    <tr>\n",
              "      <th>142</th>\n",
              "      <td>6.1440</td>\n",
              "      <td>778.861365</td>\n",
              "      <td>1600.0</td>\n",
              "    </tr>\n",
              "    <tr>\n",
              "      <th>85</th>\n",
              "      <td>3.5340</td>\n",
              "      <td>214.494575</td>\n",
              "      <td>130.0</td>\n",
              "    </tr>\n",
              "    <tr>\n",
              "      <th>26</th>\n",
              "      <td>6.0900</td>\n",
              "      <td>767.184811</td>\n",
              "      <td>720.0</td>\n",
              "    </tr>\n",
              "    <tr>\n",
              "      <th>61</th>\n",
              "      <td>2.3265</td>\n",
              "      <td>-46.606153</td>\n",
              "      <td>55.0</td>\n",
              "    </tr>\n",
              "    <tr>\n",
              "      <th>54</th>\n",
              "      <td>5.3550</td>\n",
              "      <td>608.253933</td>\n",
              "      <td>390.0</td>\n",
              "    </tr>\n",
              "    <tr>\n",
              "      <th>86</th>\n",
              "      <td>3.4075</td>\n",
              "      <td>187.141165</td>\n",
              "      <td>120.0</td>\n",
              "    </tr>\n",
              "    <tr>\n",
              "      <th>144</th>\n",
              "      <td>7.4800</td>\n",
              "      <td>1067.747967</td>\n",
              "      <td>1650.0</td>\n",
              "    </tr>\n",
              "    <tr>\n",
              "      <th>63</th>\n",
              "      <td>2.6730</td>\n",
              "      <td>28.318403</td>\n",
              "      <td>90.0</td>\n",
              "    </tr>\n",
              "    <tr>\n",
              "      <th>8</th>\n",
              "      <td>4.8438</td>\n",
              "      <td>497.715886</td>\n",
              "      <td>450.0</td>\n",
              "    </tr>\n",
              "    <tr>\n",
              "      <th>24</th>\n",
              "      <td>5.5890</td>\n",
              "      <td>658.852335</td>\n",
              "      <td>700.0</td>\n",
              "    </tr>\n",
              "    <tr>\n",
              "      <th>56</th>\n",
              "      <td>4.2485</td>\n",
              "      <td>368.992686</td>\n",
              "      <td>270.0</td>\n",
              "    </tr>\n",
              "    <tr>\n",
              "      <th>119</th>\n",
              "      <td>7.1064</td>\n",
              "      <td>986.963510</td>\n",
              "      <td>850.0</td>\n",
              "    </tr>\n",
              "    <tr>\n",
              "      <th>148</th>\n",
              "      <td>1.3800</td>\n",
              "      <td>-251.270202</td>\n",
              "      <td>9.7</td>\n",
              "    </tr>\n",
              "    <tr>\n",
              "      <th>19</th>\n",
              "      <td>5.7276</td>\n",
              "      <td>688.822157</td>\n",
              "      <td>650.0</td>\n",
              "    </tr>\n",
              "    <tr>\n",
              "      <th>90</th>\n",
              "      <td>3.9950</td>\n",
              "      <td>314.177751</td>\n",
              "      <td>110.0</td>\n",
              "    </tr>\n",
              "    <tr>\n",
              "      <th>143</th>\n",
              "      <td>6.1440</td>\n",
              "      <td>778.861365</td>\n",
              "      <td>1550.0</td>\n",
              "    </tr>\n",
              "    <tr>\n",
              "      <th>130</th>\n",
              "      <td>4.3844</td>\n",
              "      <td>398.378681</td>\n",
              "      <td>300.0</td>\n",
              "    </tr>\n",
              "    <tr>\n",
              "      <th>16</th>\n",
              "      <td>5.2854</td>\n",
              "      <td>593.204152</td>\n",
              "      <td>700.0</td>\n",
              "    </tr>\n",
              "    <tr>\n",
              "      <th>96</th>\n",
              "      <td>3.7230</td>\n",
              "      <td>255.362515</td>\n",
              "      <td>225.0</td>\n",
              "    </tr>\n",
              "    <tr>\n",
              "      <th>107</th>\n",
              "      <td>4.6354</td>\n",
              "      <td>452.653035</td>\n",
              "      <td>300.0</td>\n",
              "    </tr>\n",
              "    <tr>\n",
              "      <th>22</th>\n",
              "      <td>5.2801</td>\n",
              "      <td>592.058120</td>\n",
              "      <td>620.0</td>\n",
              "    </tr>\n",
              "    <tr>\n",
              "      <th>113</th>\n",
              "      <td>6.7408</td>\n",
              "      <td>907.908913</td>\n",
              "      <td>700.0</td>\n",
              "    </tr>\n",
              "    <tr>\n",
              "      <th>89</th>\n",
              "      <td>3.5250</td>\n",
              "      <td>212.548482</td>\n",
              "      <td>135.0</td>\n",
              "    </tr>\n",
              "    <tr>\n",
              "      <th>109</th>\n",
              "      <td>6.0180</td>\n",
              "      <td>751.616072</td>\n",
              "      <td>514.0</td>\n",
              "    </tr>\n",
              "    <tr>\n",
              "      <th>74</th>\n",
              "      <td>2.4320</td>\n",
              "      <td>-23.793626</td>\n",
              "      <td>40.0</td>\n",
              "    </tr>\n",
              "    <tr>\n",
              "      <th>97</th>\n",
              "      <td>3.8250</td>\n",
              "      <td>277.418228</td>\n",
              "      <td>145.0</td>\n",
              "    </tr>\n",
              "    <tr>\n",
              "      <th>27</th>\n",
              "      <td>5.8515</td>\n",
              "      <td>715.613363</td>\n",
              "      <td>714.0</td>\n",
              "    </tr>\n",
              "    <tr>\n",
              "      <th>157</th>\n",
              "      <td>2.0672</td>\n",
              "      <td>-102.675237</td>\n",
              "      <td>19.7</td>\n",
              "    </tr>\n",
              "    <tr>\n",
              "      <th>100</th>\n",
              "      <td>4.2390</td>\n",
              "      <td>366.938478</td>\n",
              "      <td>197.0</td>\n",
              "    </tr>\n",
              "    <tr>\n",
              "      <th>51</th>\n",
              "      <td>3.9060</td>\n",
              "      <td>294.933060</td>\n",
              "      <td>180.0</td>\n",
              "    </tr>\n",
              "    <tr>\n",
              "      <th>101</th>\n",
              "      <td>4.1440</td>\n",
              "      <td>346.396391</td>\n",
              "      <td>218.0</td>\n",
              "    </tr>\n",
              "  </tbody>\n",
              "</table>\n",
              "</div>\n",
              "      <button class=\"colab-df-convert\" onclick=\"convertToInteractive('df-2c86229a-779a-474c-bd76-f7681e494026')\"\n",
              "              title=\"Convert this dataframe to an interactive table.\"\n",
              "              style=\"display:none;\">\n",
              "        \n",
              "  <svg xmlns=\"http://www.w3.org/2000/svg\" height=\"24px\"viewBox=\"0 0 24 24\"\n",
              "       width=\"24px\">\n",
              "    <path d=\"M0 0h24v24H0V0z\" fill=\"none\"/>\n",
              "    <path d=\"M18.56 5.44l.94 2.06.94-2.06 2.06-.94-2.06-.94-.94-2.06-.94 2.06-2.06.94zm-11 1L8.5 8.5l.94-2.06 2.06-.94-2.06-.94L8.5 2.5l-.94 2.06-2.06.94zm10 10l.94 2.06.94-2.06 2.06-.94-2.06-.94-.94-2.06-.94 2.06-2.06.94z\"/><path d=\"M17.41 7.96l-1.37-1.37c-.4-.4-.92-.59-1.43-.59-.52 0-1.04.2-1.43.59L10.3 9.45l-7.72 7.72c-.78.78-.78 2.05 0 2.83L4 21.41c.39.39.9.59 1.41.59.51 0 1.02-.2 1.41-.59l7.78-7.78 2.81-2.81c.8-.78.8-2.07 0-2.86zM5.41 20L4 18.59l7.72-7.72 1.47 1.35L5.41 20z\"/>\n",
              "  </svg>\n",
              "      </button>\n",
              "      \n",
              "  <style>\n",
              "    .colab-df-container {\n",
              "      display:flex;\n",
              "      flex-wrap:wrap;\n",
              "      gap: 12px;\n",
              "    }\n",
              "\n",
              "    .colab-df-convert {\n",
              "      background-color: #E8F0FE;\n",
              "      border: none;\n",
              "      border-radius: 50%;\n",
              "      cursor: pointer;\n",
              "      display: none;\n",
              "      fill: #1967D2;\n",
              "      height: 32px;\n",
              "      padding: 0 0 0 0;\n",
              "      width: 32px;\n",
              "    }\n",
              "\n",
              "    .colab-df-convert:hover {\n",
              "      background-color: #E2EBFA;\n",
              "      box-shadow: 0px 1px 2px rgba(60, 64, 67, 0.3), 0px 1px 3px 1px rgba(60, 64, 67, 0.15);\n",
              "      fill: #174EA6;\n",
              "    }\n",
              "\n",
              "    [theme=dark] .colab-df-convert {\n",
              "      background-color: #3B4455;\n",
              "      fill: #D2E3FC;\n",
              "    }\n",
              "\n",
              "    [theme=dark] .colab-df-convert:hover {\n",
              "      background-color: #434B5C;\n",
              "      box-shadow: 0px 1px 3px 1px rgba(0, 0, 0, 0.15);\n",
              "      filter: drop-shadow(0px 1px 2px rgba(0, 0, 0, 0.3));\n",
              "      fill: #FFFFFF;\n",
              "    }\n",
              "  </style>\n",
              "\n",
              "      <script>\n",
              "        const buttonEl =\n",
              "          document.querySelector('#df-2c86229a-779a-474c-bd76-f7681e494026 button.colab-df-convert');\n",
              "        buttonEl.style.display =\n",
              "          google.colab.kernel.accessAllowed ? 'block' : 'none';\n",
              "\n",
              "        async function convertToInteractive(key) {\n",
              "          const element = document.querySelector('#df-2c86229a-779a-474c-bd76-f7681e494026');\n",
              "          const dataTable =\n",
              "            await google.colab.kernel.invokeFunction('convertToInteractive',\n",
              "                                                     [key], {});\n",
              "          if (!dataTable) return;\n",
              "\n",
              "          const docLinkHtml = 'Like what you see? Visit the ' +\n",
              "            '<a target=\"_blank\" href=https://colab.research.google.com/notebooks/data_table.ipynb>data table notebook</a>'\n",
              "            + ' to learn more about interactive tables.';\n",
              "          element.innerHTML = '';\n",
              "          dataTable['output_type'] = 'display_data';\n",
              "          await google.colab.output.renderOutput(dataTable, element);\n",
              "          const docLink = document.createElement('div');\n",
              "          docLink.innerHTML = docLinkHtml;\n",
              "          element.appendChild(docLink);\n",
              "        }\n",
              "      </script>\n",
              "    </div>\n",
              "  </div>\n",
              "  "
            ]
          },
          "metadata": {},
          "execution_count": 260
        }
      ]
    },
    {
      "cell_type": "markdown",
      "source": [
        "# Comparación con librerías de sklearn"
      ],
      "metadata": {
        "id": "qIy1M2E8c87O"
      }
    },
    {
      "cell_type": "code",
      "source": [
        "# Separacion en X y Y\n",
        "xSK= df[[\"Width\"]]\n",
        "\n",
        "ySK= df[\"Weight\"]\n"
      ],
      "metadata": {
        "id": "7k7C4HbzRjp0"
      },
      "execution_count": 169,
      "outputs": []
    },
    {
      "cell_type": "markdown",
      "source": [
        "## Train"
      ],
      "metadata": {
        "id": "w0oEUT37oXlH"
      }
    },
    {
      "cell_type": "code",
      "source": [
        "# Modelo prueba 30% y entrenamiento 70%\n",
        "x_trainSK, x_testSK, y_trainSK, y_testSK = train_test_split(xSK, ySK, test_size = 0.3, random_state = 0)"
      ],
      "metadata": {
        "id": "piIoxWPBcvpw"
      },
      "execution_count": 170,
      "outputs": []
    },
    {
      "cell_type": "code",
      "source": [
        "from sklearn.linear_model import LinearRegression\n",
        "lr = LinearRegression()\n",
        "lr.fit(x_trainSK,y_trainSK)\n"
      ],
      "metadata": {
        "colab": {
          "base_uri": "https://localhost:8080/"
        },
        "id": "HlD7gWJYSfTZ",
        "outputId": "d3231926-aecb-415b-8142-17fcab741cca"
      },
      "execution_count": 171,
      "outputs": [
        {
          "output_type": "execute_result",
          "data": {
            "text/plain": [
              "LinearRegression()"
            ]
          },
          "metadata": {},
          "execution_count": 171
        }
      ]
    },
    {
      "cell_type": "markdown",
      "source": [
        "## Test"
      ],
      "metadata": {
        "id": "FXZREiZ9ob8W"
      }
    },
    {
      "cell_type": "code",
      "source": [
        "print(\"Linear regression Training Accuracy:\",lr.score(x_trainSK, y_trainSK))"
      ],
      "metadata": {
        "colab": {
          "base_uri": "https://localhost:8080/"
        },
        "id": "0nv1rcGEbmwr",
        "outputId": "683cde44-300d-4535-8d31-fca7f159ce3c"
      },
      "execution_count": 241,
      "outputs": [
        {
          "output_type": "stream",
          "name": "stdout",
          "text": [
            "Linear regression Training Accuracy: 0.8457594824524043\n"
          ]
        }
      ]
    },
    {
      "cell_type": "code",
      "source": [
        "lr.fit(x_testSK, y_testSK)\n",
        "print(\"Linear regression Training Accuracy:\",lr.score(x_testSK, y_testSK))"
      ],
      "metadata": {
        "colab": {
          "base_uri": "https://localhost:8080/"
        },
        "id": "WXewYbQYmZvb",
        "outputId": "6abdc1bc-0e8f-4979-9340-acbeceb4f391"
      },
      "execution_count": 242,
      "outputs": [
        {
          "output_type": "stream",
          "name": "stdout",
          "text": [
            "Linear regression Training Accuracy: 0.7241436644225308\n"
          ]
        }
      ]
    }
  ]
}